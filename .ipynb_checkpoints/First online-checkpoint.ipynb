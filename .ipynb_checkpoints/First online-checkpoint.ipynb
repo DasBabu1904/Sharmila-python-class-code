{
 "cells": [
  {
   "cell_type": "code",
   "execution_count": 2,
   "id": "9a46edb6-73b4-4917-9d04-92bbb9e1513d",
   "metadata": {},
   "outputs": [
    {
     "data": {
      "text/plain": [
       "int"
      ]
     },
     "execution_count": 2,
     "metadata": {},
     "output_type": "execute_result"
    }
   ],
   "source": [
    "x =125\n",
    "type(x)"
   ]
  },
  {
   "cell_type": "code",
   "execution_count": 4,
   "id": "98baf848-a32c-40c5-93dd-bc2090d97cd4",
   "metadata": {},
   "outputs": [
    {
     "data": {
      "text/plain": [
       "float"
      ]
     },
     "execution_count": 4,
     "metadata": {},
     "output_type": "execute_result"
    }
   ],
   "source": [
    "y=3.1416\n",
    "type(y)"
   ]
  },
  {
   "cell_type": "code",
   "execution_count": 8,
   "id": "ae0a828b-688a-41b8-b93b-6cd6898d08d4",
   "metadata": {},
   "outputs": [
    {
     "data": {
      "text/plain": [
       "str"
      ]
     },
     "execution_count": 8,
     "metadata": {},
     "output_type": "execute_result"
    }
   ],
   "source": [
    "z=\"sourav\"\n",
    "type(z)"
   ]
  },
  {
   "cell_type": "code",
   "execution_count": 10,
   "id": "1caa599f-97a6-4f51-96af-c22d688ba0c5",
   "metadata": {},
   "outputs": [
    {
     "data": {
      "text/plain": [
       "complex"
      ]
     },
     "execution_count": 10,
     "metadata": {},
     "output_type": "execute_result"
    }
   ],
   "source": [
    "a=2+5j\n",
    "type(a)"
   ]
  },
  {
   "cell_type": "code",
   "execution_count": 12,
   "id": "cc27e2e9-a292-402f-81e9-4cdd922fc5ba",
   "metadata": {},
   "outputs": [
    {
     "data": {
      "text/plain": [
       "bool"
      ]
     },
     "execution_count": 12,
     "metadata": {},
     "output_type": "execute_result"
    }
   ],
   "source": [
    "b=True\n",
    "type(b)"
   ]
  },
  {
   "cell_type": "code",
   "execution_count": 24,
   "id": "e30e9fa6-f241-4257-9beb-f0dd9a214d08",
   "metadata": {},
   "outputs": [
    {
     "name": "stdout",
     "output_type": "stream",
     "text": [
      "[1, 2, 4, 5, 3, 100]\n",
      "6\n",
      "2\n",
      "1\n",
      "100\n",
      "3\n"
     ]
    }
   ],
   "source": [
    "#List\n",
    "#array=>list\n",
    "list1=[1,2,4,5,3,100,3]\n",
    "print(list1)\n",
    "print(len(list1))\n",
    "print(list1[1])\n",
    "print(list1[0])\n",
    "print(list1[-1])\n",
    "print(list1[-2])"
   ]
  },
  {
   "cell_type": "code",
   "execution_count": 28,
   "id": "86748881-71bc-43d7-b40b-49b870c464b0",
   "metadata": {},
   "outputs": [
    {
     "name": "stdout",
     "output_type": "stream",
     "text": [
      "1 is <class 'int'>\n",
      "sharmila is <class 'str'>\n",
      "3.1416 is <class 'float'>\n",
      "(3+5j) is <class 'complex'>\n",
      "True is <class 'bool'>\n"
     ]
    }
   ],
   "source": [
    "#Non-homoginity of list\n",
    "list2=[1,\"sharmila\",3.1416,3+5j,True]\n",
    "for x in list2:\n",
    "    print(f\"{x} is {type(x)}\")"
   ]
  },
  {
   "cell_type": "code",
   "execution_count": 30,
   "id": "6cbac519-2d55-4626-b90f-4e42c0da58bc",
   "metadata": {},
   "outputs": [
    {
     "name": "stdout",
     "output_type": "stream",
     "text": [
      "1\n",
      "2\n",
      "4\n",
      "5\n",
      "3\n",
      "100\n"
     ]
    }
   ],
   "source": [
    "for i in list1:\n",
    "    print(i)"
   ]
  },
  {
   "cell_type": "markdown",
   "id": "1d6898a0-8048-44cf-a0f1-f0ef2a67b1db",
   "metadata": {},
   "source": [
    "### List </br>\n",
    "<ul>\n",
    "    <li>Ordered,</li>\n",
    "    <li>mutable collection of items.</li>\n",
    "    <li>Allows duplicate elements.</li>\n",
    "    <li>Can contain elements of different data types.</li>\n",
    "    <li>Syntax: []</li>\n",
    "</ul>"
   ]
  },
  {
   "cell_type": "code",
   "execution_count": 44,
   "id": "3cf0eb66-51de-431a-9276-a1ebf7ac4a72",
   "metadata": {},
   "outputs": [],
   "source": [
    "#adding new item \n",
    "list2.append(\"sourav\")"
   ]
  },
  {
   "cell_type": "code",
   "execution_count": 46,
   "id": "b29d213b-e6ff-482d-aa39-4d9e04555fbf",
   "metadata": {},
   "outputs": [
    {
     "name": "stdout",
     "output_type": "stream",
     "text": [
      "[1, 'sharmila', 3.1416, (3+5j), True, 'sourav']\n"
     ]
    }
   ],
   "source": [
    "print(list2)"
   ]
  },
  {
   "cell_type": "code",
   "execution_count": 58,
   "id": "91f0f8da-cea8-4ff2-8c75-c8914176b99b",
   "metadata": {},
   "outputs": [
    {
     "name": "stdout",
     "output_type": "stream",
     "text": [
      "[1, 2, 4, 5, 3, 100, 'sourav', 'sourav']\n"
     ]
    }
   ],
   "source": [
    "# list1.append(\"sourav\")\n",
    "print(list1)\n",
    "list1.remove(\"sourav\")\n",
    "list1.remove(\"sourav\")"
   ]
  },
  {
   "cell_type": "code",
   "execution_count": 60,
   "id": "adf81ad1-83e2-4d48-879b-3ddddec074c8",
   "metadata": {},
   "outputs": [
    {
     "name": "stdout",
     "output_type": "stream",
     "text": [
      "[1, 2, 4, 5, 3, 100]\n"
     ]
    }
   ],
   "source": [
    "print(list1)"
   ]
  },
  {
   "cell_type": "code",
   "execution_count": 64,
   "id": "5537af1e-e750-4ddd-bfcd-d69399103956",
   "metadata": {},
   "outputs": [],
   "source": [
    "list2.extend([\"das\",\"mushfiq\"])"
   ]
  },
  {
   "cell_type": "code",
   "execution_count": 66,
   "id": "fda37e5e-f4b0-4042-8167-d9f4171df025",
   "metadata": {},
   "outputs": [
    {
     "data": {
      "text/plain": [
       "[1, 'sharmila', 3.1416, (3+5j), True, 'sourav', 'das', 'mushfiq']"
      ]
     },
     "execution_count": 66,
     "metadata": {},
     "output_type": "execute_result"
    }
   ],
   "source": [
    "list2"
   ]
  },
  {
   "cell_type": "code",
   "execution_count": 68,
   "id": "4f6818ee-41c3-413e-8585-52f16735746c",
   "metadata": {},
   "outputs": [
    {
     "data": {
      "text/plain": [
       "'mushfiq'"
      ]
     },
     "execution_count": 68,
     "metadata": {},
     "output_type": "execute_result"
    }
   ],
   "source": [
    "list2.pop()"
   ]
  },
  {
   "cell_type": "code",
   "execution_count": 70,
   "id": "68129328-2d47-4e6a-8591-edb5f75c9fa4",
   "metadata": {},
   "outputs": [
    {
     "data": {
      "text/plain": [
       "[1, 'sharmila', 3.1416, (3+5j), True, 'sourav', 'das']"
      ]
     },
     "execution_count": 70,
     "metadata": {},
     "output_type": "execute_result"
    }
   ],
   "source": [
    "list2"
   ]
  },
  {
   "cell_type": "code",
   "execution_count": 72,
   "id": "95de519b-7815-4516-9461-e0f53fed62ef",
   "metadata": {},
   "outputs": [
    {
     "name": "stdout",
     "output_type": "stream",
     "text": [
      "[1, 'sharmila', 3.1416, (3+5j), True, 'sourav', 'das']\n"
     ]
    }
   ],
   "source": [
    "list3=list2\n",
    "print(list3)"
   ]
  },
  {
   "cell_type": "code",
   "execution_count": 74,
   "id": "983cfbc9-838a-46ff-b55b-6ee93a781e2f",
   "metadata": {},
   "outputs": [
    {
     "data": {
      "text/plain": [
       "True"
      ]
     },
     "execution_count": 74,
     "metadata": {},
     "output_type": "execute_result"
    }
   ],
   "source": [
    "\"sourav\" in list3"
   ]
  },
  {
   "cell_type": "code",
   "execution_count": 76,
   "id": "73185c67-23aa-4207-a3ea-2afe4234b64a",
   "metadata": {},
   "outputs": [
    {
     "name": "stdout",
     "output_type": "stream",
     "text": [
      "afddfagafg\n"
     ]
    }
   ],
   "source": [
    "if \"sourav\" in list3:\n",
    "    print(\"afddfagafg\")"
   ]
  },
  {
   "cell_type": "code",
   "execution_count": 78,
   "id": "7e2714f1-3af9-4f22-97e5-1b7772935bb7",
   "metadata": {},
   "outputs": [
    {
     "name": "stdout",
     "output_type": "stream",
     "text": [
      "asfafgsadf\n"
     ]
    }
   ],
   "source": [
    "c=\"sourav\"\n",
    "if c in list3:\n",
    "    print(\"asfafgsadf\")"
   ]
  },
  {
   "cell_type": "code",
   "execution_count": 80,
   "id": "34ef0b6c-b4ad-4e66-93b3-0e392adbf0d3",
   "metadata": {},
   "outputs": [],
   "source": [
    "# concatanation \n",
    "listcon=list1+list2"
   ]
  },
  {
   "cell_type": "code",
   "execution_count": 82,
   "id": "56be1c7f-f6e3-4026-b32e-9b8608a50ebb",
   "metadata": {},
   "outputs": [
    {
     "data": {
      "text/plain": [
       "[1, 2, 4, 5, 3, 100, 1, 'sharmila', 3.1416, (3+5j), True, 'sourav', 'das']"
      ]
     },
     "execution_count": 82,
     "metadata": {},
     "output_type": "execute_result"
    }
   ],
   "source": [
    "listcon"
   ]
  },
  {
   "cell_type": "code",
   "execution_count": 88,
   "id": "6656820d-d50c-4b6c-a3d3-33f0f320e36b",
   "metadata": {},
   "outputs": [
    {
     "data": {
      "text/plain": [
       "7"
      ]
     },
     "execution_count": 88,
     "metadata": {},
     "output_type": "execute_result"
    }
   ],
   "source": [
    "listcon.index(\"sharmila\")"
   ]
  },
  {
   "cell_type": "markdown",
   "id": "0e6a8787-be3e-4abb-b570-edafe5728ec3",
   "metadata": {},
   "source": [
    "## multi dim list"
   ]
  },
  {
   "cell_type": "code",
   "execution_count": 91,
   "id": "187dab05-3a1d-4b97-8a0b-a5d5e4e95eca",
   "metadata": {},
   "outputs": [
    {
     "name": "stdout",
     "output_type": "stream",
     "text": [
      "[[1, 2, 3, 4], [1, 5, 8], [8, 9, 100]]\n"
     ]
    }
   ],
   "source": [
    "ls=[\n",
    "    [1,2,3,4],\n",
    "    [1,5,8],\n",
    "    [8,9,100]\n",
    "]\n",
    "print(ls)"
   ]
  },
  {
   "cell_type": "code",
   "execution_count": 97,
   "id": "cdbf184b-f3a1-43d8-8eb0-910a2352f931",
   "metadata": {},
   "outputs": [
    {
     "name": "stdout",
     "output_type": "stream",
     "text": [
      "3\n"
     ]
    }
   ],
   "source": [
    "print(ls[0][2])"
   ]
  },
  {
   "cell_type": "code",
   "execution_count": 99,
   "id": "0db6ca19-02ac-4fe4-a5ae-8bf36e3f453a",
   "metadata": {},
   "outputs": [
    {
     "name": "stdout",
     "output_type": "stream",
     "text": [
      "12\n"
     ]
    }
   ],
   "source": [
    "ls2=[\n",
    "    [\n",
    "        [1,2,3],\n",
    "        [4,5,6]\n",
    "    ],\n",
    "    [\n",
    "        [7,8,9],\n",
    "        [10,11,12]\n",
    "    ]\n",
    "]\n",
    "\n",
    "print(ls2[1][1][2])"
   ]
  },
  {
   "cell_type": "code",
   "execution_count": null,
   "id": "3684a171-5ff6-4f37-9f3f-42ef0c05171f",
   "metadata": {},
   "outputs": [],
   "source": []
  }
 ],
 "metadata": {
  "kernelspec": {
   "display_name": "Python 3 (ipykernel)",
   "language": "python",
   "name": "python3"
  },
  "language_info": {
   "codemirror_mode": {
    "name": "ipython",
    "version": 3
   },
   "file_extension": ".py",
   "mimetype": "text/x-python",
   "name": "python",
   "nbconvert_exporter": "python",
   "pygments_lexer": "ipython3",
   "version": "3.12.4"
  }
 },
 "nbformat": 4,
 "nbformat_minor": 5
}
