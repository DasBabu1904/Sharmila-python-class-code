





# importing the pandas library
import pandas as pd
import numpy as np





# pandas DataFrame
boston_df=pd.read_csv("BostonHousing.csv")


type(boston_df)


boston_df.head()


boston_df.shape #(row,col)


# csv file to pandas df
diabetes_df = pd.read_csv("diabetes.csv")


type(diabetes_df)


diabetes_df.head()


diabetes_df.shape











np.random.rand(10) #1 dim


np.random.rand(5,5) #2 dim


np.random.rand(3,2,5) #3 dim


rand_data=np.random.rand(5,5)*50 #range-->(1 to n)  


print(rand_data)
print(type(rand_data))


# creating a DatFrame with random values
random_df = pd.DataFrame(np.random.rand(20,10)*10)
rand_df2=pd.DataFrame(rand_data)


random_df.head()


rand_df2.head()


random_df.shape





#finding the number of rows & columns
boston_df.shape


# first 5 rows in a DataFrame
boston_df.head()


# last 5 rows of the DataFrame
boston_df.tail(12)


# informations about the DataFrame
boston_df.info()


# finding the number of missing values
boston_df.isnull().sum()


# counting the values based on the labels
diabetes_df.value_counts('Outcome')


boston_df.value_counts("rad")





# group the values based on the mean
diabetes_df.groupby('Outcome').mean()





# count or number of values
boston_df.count()


# mean value - column wise
boston_df.mean()


# standard deviation - column wise
boston_df.std()


# minimum value
boston_df.min()


# maximum value
boston_df.max()


# all the statistical measures about the dataframe
boston_df.describe()





# adding a column to a dataframe
boston_df['Price'] = boston_dataset.target


boston_df.head()


# removing a row
boston_df.drop(index=0, axis=0)


# drop a column
boston_df.drop(columns='ZN', axis=1)


# locating a row using the index value
boston_df.iloc[2]


# locating a particular column
print(boston_df.iloc[:,0])  # first column
print(boston_df.iloc[:,1])  # second column
print(boston_df.iloc[:,2])  # third column
print(boston_df.iloc[:,-1]) # last column





boston_df.corr()



