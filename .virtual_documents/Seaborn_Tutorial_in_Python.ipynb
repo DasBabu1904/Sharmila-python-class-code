





import seaborn as sns
import matplotlib.pyplot as plt
import numpy as np
import pandas as pd


import warnings
warnings.filterwarnings('ignore') 





# total bill vs tip dataset
tips = sns.load_dataset('tips')


tips.head()


# setting a theme for the plots
sns.set_theme()


# visualize the data
sns.relplot(data=tips, x ='total_bill',y='tip',col='time',hue='smoker',style='smoker',size='size')


# load the iris dataset
iris = sns.load_dataset('iris')


iris.head()





sns.scatterplot(x='sepal_length',y='petal_length',hue='species',data=iris)


sns.scatterplot(x='sepal_length',y='petal_width',hue='species',data=iris)


# loading the titanic dataset
titanic = sns.load_dataset('titanic')


titanic.head()


titanic.shape





sns.countplot(x='class',data=titanic, palette=['green', 'yellow', 'blue'])


sns.countplot(x='survived',data=titanic,palette=['red','black'])





sns.barplot(x='sex',y='survived',hue='class',data=titanic)


# house price dataset
import sklearn as sk
boston=pd.read_csv("BostonHousing.csv")

boston.head()
# house['PRICE'] = house_boston.target





sns.distplot(house['PRICE'])








correlation = house.corr()


# constructing a Heat Map
plt.figure(figsize=(10,10))
sns.heatmap(, cbar=True, square=True, fmt='.1f', annot=True, annot_kws={'size':8}, cmap='Blues')



