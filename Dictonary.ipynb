{
 "cells": [
  {
   "cell_type": "markdown",
   "id": "2f2afbb3-bfa0-43ed-8937-804fecae2a58",
   "metadata": {},
   "source": [
    "# Dictonary"
   ]
  },
  {
   "cell_type": "code",
   "execution_count": 1,
   "id": "bbd8e3e8-6f24-49ff-8629-71961e409890",
   "metadata": {},
   "outputs": [],
   "source": [
    "myData={\"sourav\":23,\"sharmila\":24,\"Debi\":22}"
   ]
  },
  {
   "cell_type": "code",
   "execution_count": 3,
   "id": "e5334392-1419-4c04-bb1b-e2e60555f68e",
   "metadata": {},
   "outputs": [
    {
     "name": "stdout",
     "output_type": "stream",
     "text": [
      "<class 'dict'>\n"
     ]
    }
   ],
   "source": [
    "print(type(myData))"
   ]
  },
  {
   "cell_type": "code",
   "execution_count": 5,
   "id": "e217c751-009f-4147-81c9-b027f743f962",
   "metadata": {},
   "outputs": [
    {
     "name": "stdout",
     "output_type": "stream",
     "text": [
      "23\n"
     ]
    }
   ],
   "source": [
    "print(myData[\"sourav\"])"
   ]
  },
  {
   "cell_type": "code",
   "execution_count": 7,
   "id": "00886c24-4acb-477f-8d31-ded2a75a1ac9",
   "metadata": {},
   "outputs": [
    {
     "name": "stdout",
     "output_type": "stream",
     "text": [
      "24\n"
     ]
    }
   ],
   "source": [
    "print(myData[\"sharmila\"])"
   ]
  },
  {
   "cell_type": "code",
   "execution_count": 9,
   "id": "79481730-9f0a-469c-8250-675dc5b23361",
   "metadata": {},
   "outputs": [],
   "source": [
    "carInfo={\"Model\":\"sz-001\",\"price\":300000,\"cc\":150,\"year\":2017,\"av-BD\":False }"
   ]
  },
  {
   "cell_type": "code",
   "execution_count": 11,
   "id": "e1883136-b671-4e31-9fe5-611f6df50238",
   "metadata": {},
   "outputs": [],
   "source": [
    "carInfo[\"cylinder\"]=4"
   ]
  },
  {
   "cell_type": "code",
   "execution_count": 13,
   "id": "f9357937-c749-4a1f-8dab-2d568bf65e31",
   "metadata": {},
   "outputs": [
    {
     "name": "stdout",
     "output_type": "stream",
     "text": [
      "{'Model': 'sz-001', 'price': 300000, 'cc': 150, 'year': 2017, 'av-BD': False, 'cylinder': 4}\n"
     ]
    }
   ],
   "source": [
    "print(carInfo)"
   ]
  },
  {
   "cell_type": "markdown",
   "id": "47bef2f5-b940-40d2-adc5-c8d5a6e54ab9",
   "metadata": {},
   "source": [
    "### Summary </br>\n",
    "Dictionaries are key-value pairs.\n",
    "\n",
    "Keys must be unique and immutable.\n",
    "\n",
    "Values can be of any data type.\n",
    "\n",
    "Use dictionaries for fast lookups and efficient data storage."
   ]
  },
  {
   "cell_type": "markdown",
   "id": "050495a4-bb5f-4e9b-9290-d08ab2b98e0c",
   "metadata": {},
   "source": [
    "# SET"
   ]
  },
  {
   "cell_type": "code",
   "execution_count": 21,
   "id": "6580d82c-c1db-4153-a546-14afc541ffb7",
   "metadata": {},
   "outputs": [],
   "source": [
    "mySet={1,2,3,4,5}"
   ]
  },
  {
   "cell_type": "code",
   "execution_count": 23,
   "id": "8eea20c1-53c3-45c6-a11c-4919707b0cf6",
   "metadata": {},
   "outputs": [
    {
     "name": "stdout",
     "output_type": "stream",
     "text": [
      "<class 'set'>\n"
     ]
    }
   ],
   "source": [
    "print(type(mySet))"
   ]
  },
  {
   "cell_type": "code",
   "execution_count": 25,
   "id": "58b8c941-e5a1-44f4-bfb6-9d69732e0fef",
   "metadata": {},
   "outputs": [
    {
     "name": "stdout",
     "output_type": "stream",
     "text": [
      "{1, 2, 3, 4, 5}\n"
     ]
    }
   ],
   "source": [
    "print(mySet)"
   ]
  },
  {
   "cell_type": "code",
   "execution_count": 27,
   "id": "823cf809-fe28-41a4-858d-01e6e5049579",
   "metadata": {},
   "outputs": [],
   "source": [
    "mySet.add(9)"
   ]
  },
  {
   "cell_type": "code",
   "execution_count": 29,
   "id": "4d3c995e-86f0-409f-9da9-00438ce3182d",
   "metadata": {},
   "outputs": [
    {
     "name": "stdout",
     "output_type": "stream",
     "text": [
      "{1, 2, 3, 4, 5, 9}\n"
     ]
    }
   ],
   "source": [
    "print(mySet)"
   ]
  },
  {
   "cell_type": "code",
   "execution_count": 31,
   "id": "93f6c15e-c30b-49e9-81a4-d3a933ac86ab",
   "metadata": {},
   "outputs": [],
   "source": [
    "mySet.add(3)"
   ]
  },
  {
   "cell_type": "code",
   "execution_count": 35,
   "id": "00f1e7bd-2e9d-4111-9801-001f15f1ed3c",
   "metadata": {},
   "outputs": [
    {
     "name": "stdout",
     "output_type": "stream",
     "text": [
      "{1, 2, 3, 4, 5, 9}\n"
     ]
    }
   ],
   "source": [
    "print(mySet)"
   ]
  },
  {
   "cell_type": "code",
   "execution_count": 37,
   "id": "a38f0195-0941-4bbc-bd5a-fd8a33adf524",
   "metadata": {},
   "outputs": [],
   "source": [
    "mySet.discard(4)"
   ]
  },
  {
   "cell_type": "code",
   "execution_count": 39,
   "id": "0e53c1f6-f748-477c-854d-30905dbde844",
   "metadata": {},
   "outputs": [
    {
     "name": "stdout",
     "output_type": "stream",
     "text": [
      "{1, 2, 3, 5, 9}\n"
     ]
    }
   ],
   "source": [
    "print(mySet)"
   ]
  },
  {
   "cell_type": "code",
   "execution_count": 41,
   "id": "44bd5372-7820-42bf-abb3-d59b962b7370",
   "metadata": {},
   "outputs": [],
   "source": [
    "herSet={4,5,9,10,11}"
   ]
  },
  {
   "cell_type": "code",
   "execution_count": 49,
   "id": "046d10da-75bc-45be-bc10-546e8dfdba83",
   "metadata": {},
   "outputs": [
    {
     "data": {
      "text/plain": [
       "{1, 2, 3, 4, 5, 9, 10, 11}"
      ]
     },
     "execution_count": 49,
     "metadata": {},
     "output_type": "execute_result"
    }
   ],
   "source": [
    "mySet | herSet"
   ]
  },
  {
   "cell_type": "code",
   "execution_count": 51,
   "id": "77ecc3f6-56a4-4ae9-9aa3-5975a4c12de5",
   "metadata": {},
   "outputs": [
    {
     "data": {
      "text/plain": [
       "{5, 9}"
      ]
     },
     "execution_count": 51,
     "metadata": {},
     "output_type": "execute_result"
    }
   ],
   "source": [
    "mySet & herSet"
   ]
  },
  {
   "cell_type": "code",
   "execution_count": 53,
   "id": "6456c7e5-941a-42b1-bb01-9c6eddc53926",
   "metadata": {},
   "outputs": [
    {
     "data": {
      "text/plain": [
       "{1, 2, 3}"
      ]
     },
     "execution_count": 53,
     "metadata": {},
     "output_type": "execute_result"
    }
   ],
   "source": [
    "mySet-herSet"
   ]
  },
  {
   "cell_type": "code",
   "execution_count": 55,
   "id": "7a76004e-0b69-4b4a-8303-7626550ae425",
   "metadata": {},
   "outputs": [
    {
     "data": {
      "text/plain": [
       "{1, 2, 3, 4, 10, 11}"
      ]
     },
     "execution_count": 55,
     "metadata": {},
     "output_type": "execute_result"
    }
   ],
   "source": [
    "mySet^herSet"
   ]
  },
  {
   "cell_type": "code",
   "execution_count": null,
   "id": "6f9d449f-9535-45dc-b8d5-283a3d1b1ec8",
   "metadata": {},
   "outputs": [],
   "source": []
  }
 ],
 "metadata": {
  "kernelspec": {
   "display_name": "Python 3 (ipykernel)",
   "language": "python",
   "name": "python3"
  },
  "language_info": {
   "codemirror_mode": {
    "name": "ipython",
    "version": 3
   },
   "file_extension": ".py",
   "mimetype": "text/x-python",
   "name": "python",
   "nbconvert_exporter": "python",
   "pygments_lexer": "ipython3",
   "version": "3.12.4"
  }
 },
 "nbformat": 4,
 "nbformat_minor": 5
}
