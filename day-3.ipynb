{
 "cells": [
  {
   "cell_type": "code",
   "execution_count": 5,
   "id": "aa528baa-d103-402c-b054-727830eba46a",
   "metadata": {},
   "outputs": [],
   "source": [
    "t=(\"sharmila\",3.1419,24,11, True, 3+5j)"
   ]
  },
  {
   "cell_type": "code",
   "execution_count": 7,
   "id": "eb391868-3be9-4157-9c95-f115430439a4",
   "metadata": {},
   "outputs": [
    {
     "name": "stdout",
     "output_type": "stream",
     "text": [
      "<class 'tuple'>\n"
     ]
    }
   ],
   "source": [
    "print(type(t))"
   ]
  },
  {
   "cell_type": "code",
   "execution_count": 9,
   "id": "97214f10-3852-4bc3-a99c-c9da1c002246",
   "metadata": {},
   "outputs": [
    {
     "name": "stdout",
     "output_type": "stream",
     "text": [
      "('sharmila', 3.1419, 24, 11, True, (3+5j))\n"
     ]
    }
   ],
   "source": [
    "print(t)"
   ]
  },
  {
   "cell_type": "code",
   "execution_count": 11,
   "id": "86c070fc-acc4-4c13-abec-3d077f1e5969",
   "metadata": {},
   "outputs": [
    {
     "name": "stdout",
     "output_type": "stream",
     "text": [
      "6\n"
     ]
    }
   ],
   "source": [
    "print(len(t))"
   ]
  },
  {
   "cell_type": "code",
   "execution_count": 13,
   "id": "628af26c-c14b-4c12-a9b8-db20184c30a7",
   "metadata": {},
   "outputs": [
    {
     "name": "stdout",
     "output_type": "stream",
     "text": [
      "3.1419\n"
     ]
    }
   ],
   "source": [
    "print(t[1])"
   ]
  },
  {
   "cell_type": "code",
   "execution_count": 17,
   "id": "acf55451-7633-4b45-aa65-9bb74033c85d",
   "metadata": {},
   "outputs": [],
   "source": [
    "# print(24 in t)\n",
    "x=24 in t\n"
   ]
  },
  {
   "cell_type": "code",
   "execution_count": 19,
   "id": "43d05839-bb2f-46b6-82eb-20f71718a778",
   "metadata": {},
   "outputs": [
    {
     "data": {
      "text/plain": [
       "True"
      ]
     },
     "execution_count": 19,
     "metadata": {},
     "output_type": "execute_result"
    }
   ],
   "source": [
    "x"
   ]
  },
  {
   "cell_type": "code",
   "execution_count": 29,
   "id": "68c31336-82e2-4c04-aa8f-a56d37853840",
   "metadata": {},
   "outputs": [
    {
     "ename": "AttributeError",
     "evalue": "'int' object has no attribute 'append'",
     "output_type": "error",
     "traceback": [
      "\u001b[1;31m---------------------------------------------------------------------------\u001b[0m",
      "\u001b[1;31mAttributeError\u001b[0m                            Traceback (most recent call last)",
      "Cell \u001b[1;32mIn[29], line 1\u001b[0m\n\u001b[1;32m----> 1\u001b[0m \u001b[43mt\u001b[49m\u001b[43m[\u001b[49m\u001b[38;5;241;43m3\u001b[39;49m\u001b[43m]\u001b[49m\u001b[38;5;241;43m.\u001b[39;49m\u001b[43mappend\u001b[49m(\u001b[38;5;241m100\u001b[39m)\n",
      "\u001b[1;31mAttributeError\u001b[0m: 'int' object has no attribute 'append'"
     ]
    }
   ],
   "source": [
    "t[3].append(100)"
   ]
  },
  {
   "cell_type": "code",
   "execution_count": 47,
   "id": "bd7ea6b9-ee98-439e-86c5-ba740890aa35",
   "metadata": {},
   "outputs": [],
   "source": [
    "dic={\"Sharmila\":24, \"Sourav\":23}\n",
    "ls=[2,6,100]"
   ]
  },
  {
   "cell_type": "code",
   "execution_count": 49,
   "id": "bff4691b-0916-49a2-ad77-63b150bc8544",
   "metadata": {},
   "outputs": [],
   "source": [
    "t2=(1,ls,2,3,dic)"
   ]
  },
  {
   "cell_type": "code",
   "execution_count": 51,
   "id": "b2bce6eb-886d-4cf6-88f8-99e7d2720442",
   "metadata": {},
   "outputs": [
    {
     "name": "stdout",
     "output_type": "stream",
     "text": [
      "(1, [2, 6, 100], 2, 3, {'Sharmila': 24, 'Sourav': 23})\n"
     ]
    }
   ],
   "source": [
    "print(t2)"
   ]
  },
  {
   "cell_type": "code",
   "execution_count": 59,
   "id": "e05e0b2b-a59b-4839-93bb-fa7f7f84452c",
   "metadata": {},
   "outputs": [
    {
     "name": "stdout",
     "output_type": "stream",
     "text": [
      "<class 'tuple'>\n",
      "<class 'dict'>\n",
      "<class 'list'>\n",
      "<class 'int'>\n"
     ]
    }
   ],
   "source": [
    "print(type(t2))\n",
    "print(type(t2[4]))\n",
    "print(type(t2[1]))\n",
    "print(type(t2[0]))"
   ]
  },
  {
   "cell_type": "code",
   "execution_count": 61,
   "id": "8801cb04-73ef-4253-8b92-6135415193bd",
   "metadata": {},
   "outputs": [],
   "source": [
    "t2[4][\"Das\"]=None"
   ]
  },
  {
   "cell_type": "code",
   "execution_count": 63,
   "id": "1973c9bc-f408-4d28-8e97-002a9afb39e4",
   "metadata": {},
   "outputs": [
    {
     "name": "stdout",
     "output_type": "stream",
     "text": [
      "(1, [2, 6, 100], 2, 3, {'Sharmila': 24, 'Sourav': 23, 'Das': None})\n"
     ]
    }
   ],
   "source": [
    "print(t2)"
   ]
  },
  {
   "cell_type": "code",
   "execution_count": 65,
   "id": "19894971-73d1-46f7-bc28-d13ea0eaf2cf",
   "metadata": {},
   "outputs": [],
   "source": [
    "t2[1].append(2222)"
   ]
  },
  {
   "cell_type": "code",
   "execution_count": 67,
   "id": "b125c338-5fd4-488a-85f5-062567891275",
   "metadata": {},
   "outputs": [
    {
     "name": "stdout",
     "output_type": "stream",
     "text": [
      "(1, [2, 6, 100, 2222], 2, 3, {'Sharmila': 24, 'Sourav': 23, 'Das': None})\n"
     ]
    }
   ],
   "source": [
    "print(t2)"
   ]
  },
  {
   "cell_type": "markdown",
   "id": "10bbf77f-3e01-4400-ac16-8aa9af57d0ee",
   "metadata": {},
   "source": [
    "# Summary \n",
    "Tuples are ordered, immutable, and heterogeneous sequences.\n",
    "\n",
    "They are defined using parentheses () and commas ,.\n",
    "\n",
    "Tuples are faster and safer than lists for storing fixed data.\n",
    "\n",
    "Common use cases include returning multiple values from functions, storing constants, and using them as dictionary keys.\n",
    "\n",
    "Ordered: The elements in a tuple have a defined order, and you can access them using indices.\n",
    "\n",
    "Immutable: Once a tuple is created, you cannot add, remove, or modify its elements.\n",
    "\n",
    "Heterogeneous: Tuples can store elements of different data types (e.g., integers, strings, floats, etc.).\n",
    "\n",
    "Indexable: You can access elements of a tuple using their index (starting from 0).\n",
    "\n",
    "Hashable: Tuples are hashable (if all their elements are hashable), which means they can be used as keys in dictionaries or elements in sets."
   ]
  },
  {
   "cell_type": "markdown",
   "id": "8a7bec4f-165d-482f-a9da-378b6279dedc",
   "metadata": {},
   "source": [
    "# Function"
   ]
  },
  {
   "cell_type": "code",
   "execution_count": 76,
   "id": "ebec66a7-c377-4efb-a791-8099b34b7b3c",
   "metadata": {},
   "outputs": [
    {
     "name": "stdout",
     "output_type": "stream",
     "text": [
      "26\n"
     ]
    }
   ],
   "source": [
    "def SUM(a,b):\n",
    "    summation =a+b\n",
    "    return summation\n",
    "\n",
    "x=SUM(19,7)\n",
    "print(x)"
   ]
  },
  {
   "cell_type": "code",
   "execution_count": 86,
   "id": "e9ca8a96-56f1-49e7-9654-4a7beb05b713",
   "metadata": {},
   "outputs": [
    {
     "name": "stdout",
     "output_type": "stream",
     "text": [
      "120\n"
     ]
    }
   ],
   "source": [
    "def factorial(n):\n",
    "    result=1\n",
    "    for i in range(1,n+1):\n",
    "        result=result*i\n",
    "    return result\n",
    "\n",
    "f=factorial(5)\n",
    "print(f)"
   ]
  },
  {
   "cell_type": "markdown",
   "id": "ade3036e-49a0-4f46-a4cb-04fc80edaeb9",
   "metadata": {},
   "source": [
    "fastest growing  function of universe is n^n\n",
    "second one is factorial (till the day)"
   ]
  },
  {
   "cell_type": "code",
   "execution_count": 88,
   "id": "570299e2-f86d-4e81-ad64-76baed80e2ed",
   "metadata": {},
   "outputs": [
    {
     "name": "stdout",
     "output_type": "stream",
     "text": [
      "66\n"
     ]
    }
   ],
   "source": [
    "def nthsum(n):\n",
    "    s=0\n",
    "    for i in range(1,n+1):\n",
    "        s=s+i\n",
    "    return s\n",
    "\n",
    "sm=nthsum(11)\n",
    "print(sm) ##  first nth term summation  n(n+1)/2"
   ]
  },
  {
   "cell_type": "code",
   "execution_count": null,
   "id": "2c3d9b00-5e69-4379-a803-5bbfd8eb63cc",
   "metadata": {},
   "outputs": [],
   "source": []
  }
 ],
 "metadata": {
  "kernelspec": {
   "display_name": "Python 3 (ipykernel)",
   "language": "python",
   "name": "python3"
  },
  "language_info": {
   "codemirror_mode": {
    "name": "ipython",
    "version": 3
   },
   "file_extension": ".py",
   "mimetype": "text/x-python",
   "name": "python",
   "nbconvert_exporter": "python",
   "pygments_lexer": "ipython3",
   "version": "3.12.4"
  }
 },
 "nbformat": 4,
 "nbformat_minor": 5
}
