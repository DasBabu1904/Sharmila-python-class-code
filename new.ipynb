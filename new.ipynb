{
 "cells": [
  {
   "cell_type": "code",
   "execution_count": 7,
   "id": "4e90770e-7550-4073-b631-5ea46acd4645",
   "metadata": {},
   "outputs": [
    {
     "name": "stdout",
     "output_type": "stream",
     "text": [
      "1\n",
      "1\n",
      "2\n",
      "3\n",
      "5\n",
      "8\n",
      "13\n",
      "21\n",
      "34\n",
      "55\n",
      "89\n"
     ]
    }
   ],
   "source": [
    "# fibonacci number\n",
    "\n",
    "pre_num=0\n",
    "next_num=1\n",
    "n=10\n",
    "for i in range(0,n+1):\n",
    "    print(next_num)\n",
    "    tem=pre_num\n",
    "    pre_num=next_num\n",
    "    next_num=next_num+tem\n"
   ]
  },
  {
   "cell_type": "code",
   "execution_count": 19,
   "id": "2ba1bc36-5d5f-4407-a1c8-4a451639c427",
   "metadata": {},
   "outputs": [
    {
     "name": "stdin",
     "output_type": "stream",
     "text": [
      " 2016\n"
     ]
    },
    {
     "name": "stdout",
     "output_type": "stream",
     "text": [
      "2016 is a leap year\n"
     ]
    }
   ],
   "source": [
    "# leap Year\n",
    "\n",
    "y=int(input())\n",
    "\n",
    "if(y%400==0):\n",
    "    print(f\"{y} is a leap year\")\n",
    "else:\n",
    "    if(y%100==0):\n",
    "        print(f\"{y} is not a leap year\")\n",
    "    else:\n",
    "        if(y%4==0):\n",
    "            print(f\"{y} is a leap year\")\n",
    "        else:\n",
    "            print(f\"{y} is not a leap year\")\n"
   ]
  },
  {
   "cell_type": "code",
   "execution_count": 21,
   "id": "7884b6ac-52e4-427e-968a-92dae0cf80ba",
   "metadata": {},
   "outputs": [
    {
     "name": "stdout",
     "output_type": "stream",
     "text": [
      "0 .sourav\n",
      "1 .sourav\n",
      "2 .sourav\n",
      "3 .sourav\n",
      "4 .sourav\n",
      "5 .sourav\n",
      "6 .sourav\n",
      "7 .sourav\n",
      "8 .sourav\n",
      "9 .sourav\n"
     ]
    }
   ],
   "source": [
    "for i in range(0,10):\n",
    "    print(f\"{i} .sourav\")"
   ]
  },
  {
   "cell_type": "code",
   "execution_count": null,
   "id": "1878dd30-5c1b-4c7b-b190-fcb270c99178",
   "metadata": {},
   "outputs": [],
   "source": []
  }
 ],
 "metadata": {
  "kernelspec": {
   "display_name": "Python 3 (ipykernel)",
   "language": "python",
   "name": "python3"
  },
  "language_info": {
   "codemirror_mode": {
    "name": "ipython",
    "version": 3
   },
   "file_extension": ".py",
   "mimetype": "text/x-python",
   "name": "python",
   "nbconvert_exporter": "python",
   "pygments_lexer": "ipython3",
   "version": "3.12.4"
  }
 },
 "nbformat": 4,
 "nbformat_minor": 5
}
